{
  "nbformat": 4,
  "nbformat_minor": 0,
  "metadata": {
    "colab": {
      "name": "Portfolio Python III-Group 1 (Code).ipynb",
      "provenance": [],
      "collapsed_sections": []
    },
    "kernelspec": {
      "name": "python3",
      "display_name": "Python 3"
    },
    "language_info": {
      "name": "python"
    }
  },
  "cells": [
    {
      "cell_type": "markdown",
      "source": [
        "#Python OOP (Object-Oriented Programming)\n",
        "\n",
        "Python Object-Oriented Programming (OOPs) is a programming paradigm that uses objects and classes in programming. The main concept of OOPs is to bind the data and the functions that work on that together as a single unit so that no other part of the code can access this data.\n",
        "\n",
        "Main Concepts:\n",
        "1. Class \n",
        "2. Object\n",
        "3. Method"
      ],
      "metadata": {
        "id": "sZcr_kwOMbHa"
      }
    },
    {
      "cell_type": "markdown",
      "source": [
        "**Class**\n",
        "\n",
        "A class is a collection of objects. A class contains the blueprints or the prototype from which the objects are being created. It is a logical entity that contains some attributes and methods.\n",
        "\n",
        "To understand the need for creating a class let’s consider an example, let’s say you wanted to track the number of cats that may have different attributes like breed and age. If a list is used, the first element could be the cat’s breed while the second element could represent its age. Let’s suppose there are 10 different cats, then how would you know which element is supposed to be which? What if you wanted to add other properties to these cats? This lacks organization and it’s the exact need for classes. \n",
        "\n",
        "Some points on Python class:  \n",
        "1. Classes are created by keyword class.\n",
        "2. Attributes are the variables that belong to a class.\n",
        "3. Attributes are always public and can be accessed using the dot (.) operator.\n",
        "Eg.: Myclass.Myattribute\n"
      ],
      "metadata": {
        "id": "SHEZIrRPMrRX"
      }
    },
    {
      "cell_type": "markdown",
      "source": [
        "**Object**\n",
        "\n",
        "The object is an entity that has a state and behavior associated with it. Integers, strings, floating-point numbers, even arrays, and dictionaries are all objects. The number 12 is an object, the string “Hello, world” is an object, a list is an object that can hold other objects, and so on. You’ve been using objects all along and may not even realize it.\n",
        "\n",
        "\n",
        "An object consists of :\n",
        "1. State\t\t: It is represented by the attributes of an object.\n",
        "  It also reflects the properties of an object.\n",
        "2. Behavior\t: It is represented by the methods of an object. \n",
        "  It also reflects the response of an object to other objects.\n",
        "3. Identity\t: It gives a unique name to an object and enables one object\n",
        "  to interact with other objects.\n",
        "\n"
      ],
      "metadata": {
        "id": "cdYOGewqM29n"
      }
    },
    {
      "cell_type": "markdown",
      "source": [
        "**The Self**\n",
        "\n",
        "1. Class methods must have an extra first parameter in the method definition. We do not give a value for this parameter when we call the method, Python provides it.\n",
        "2. If we have a method that takes no arguments, then we still have to have one argument.\n",
        "3. This is similar to this pointer in C++ and this reference in Java.\n",
        "\n",
        "When we call a method of this object as myobject.method(arg1, arg2), this is automatically converted by Python into MyClass.method(myobject, arg1, arg2) – this is all the special self is about.\n",
        "\n"
      ],
      "metadata": {
        "id": "pRvn87WAOV3w"
      }
    },
    {
      "cell_type": "markdown",
      "source": [
        "**__init__ function**\n",
        "\n",
        "The __init__ function is similar to constructors in C++ and Java. It is run as soon as an object of a class is instantiated. The functon is useful to do any initialization you want to do with your object. "
      ],
      "metadata": {
        "id": "EheiJ2PVOhJn"
      }
    },
    {
      "cell_type": "code",
      "source": [
        "#Create Class and Objects\n",
        "class Cat:\n",
        "  species = \"mammal\" #class attribute\n",
        "\n",
        "  def __init__(self, types, name, age): #instance attribute\n",
        "    self.types = types\n",
        "    self.name = name\n",
        "    self.age = age\n",
        "\n",
        "uto = Cat(\"Persian\", \"Uto\", 5)\n",
        "venus = Cat(\"Sphynx\", \"Venus\", 3)\n",
        "upi = Cat(\"Ragdoll\", \"Upi\", 4)\n",
        "\n",
        "print(\"I have 3 Cats\")\n",
        "print(\"Uto is a {}\".format(uto.__class__.species))\n",
        "print(\"Venus is also a {}\".format(venus.__class__.species))\n",
        "print(\"And ofcourse Upi is a {} as well\\n\".format(upi.__class__.species))\n",
        "\n",
        "print(f\"{uto.name} is a {uto.age} years {uto.types} cat.\")\n",
        "print(f\"{venus.name} is a {venus.age} years {venus.types} cat.\")\n",
        "print(f\"And {upi.name} is a {upi.age} years {upi.types} cat.\")"
      ],
      "metadata": {
        "colab": {
          "base_uri": "https://localhost:8080/"
        },
        "id": "XlhrrWK8NDsw",
        "outputId": "66cfb461-3f45-4a11-fdcd-7071cbd1de3a"
      },
      "execution_count": null,
      "outputs": [
        {
          "output_type": "stream",
          "name": "stdout",
          "text": [
            "I have 3 Cats\n",
            "Uto is a mammal\n",
            "Venus is also a mammal\n",
            "And ofcourse Upi is a mammal as well\n",
            "\n",
            "Uto is a 5 years Persian cat.\n",
            "Venus is a 3 years Sphynx cat.\n",
            "And Upi is a 4 years Ragdoll cat.\n"
          ]
        }
      ]
    },
    {
      "cell_type": "markdown",
      "source": [
        "**Object Method**\n",
        "\n",
        "Objects can also contain methods. Methods in objects are functions that belong to the object."
      ],
      "metadata": {
        "id": "j4mtkZMlXPW2"
      }
    },
    {
      "cell_type": "code",
      "source": [
        "class Dog:\n",
        "  def __init__(self, breed, name):\n",
        "    self.breed = breed\n",
        "    self.name = name\n",
        "\n",
        "  def pets(self):\n",
        "    print(\"I have {} breed dog and its name is {}\".format(self.breed, self.name))\n",
        "\n",
        "pet = Dog(\"Husky\", \"Jackson\")\n",
        "pet.pets()\n",
        "pet = Dog(\"Poodle\", \"Cesie\")\n",
        "pet.pets()"
      ],
      "metadata": {
        "colab": {
          "base_uri": "https://localhost:8080/"
        },
        "id": "UcuRmGo_XXKA",
        "outputId": "8edfc2e1-2d4d-4baa-a6d9-9a3a5aedd92f"
      },
      "execution_count": null,
      "outputs": [
        {
          "output_type": "stream",
          "name": "stdout",
          "text": [
            "I have Husky breed dog and its name is Jackson\n",
            "I have Poodle breed dog and its name is Cesie\n"
          ]
        }
      ]
    },
    {
      "cell_type": "markdown",
      "source": [
        "**Class Method**\n",
        "\n",
        "The @classmethod decorator is a built-in function decorator that is an expression that gets evaluated after your function is defined. The result of that evaluation shadows your function definition. A class method receives the class as an implicit first argument, just like an instance method receives the instance.\n",
        "\n",
        "- A class method is a method that is bound to the class and not the object of the class.\n",
        "- They have the access to the state of the class as it takes a class parameter that points to the class and not the object instance.\n",
        "- It can modify a class state that would apply across all the instances of the class. For example, it can modify a class variable that will be applicable to all the instances.\n",
        "\n",
        "Syntax:\n",
        "\n",
        "class C(object):\n",
        "\n",
        "    @classmethod\n",
        "    def fun(cls, arg1, arg2, ...):\n",
        "       ....\n",
        "\n",
        "fun: function that needs to be converted into a class method\n",
        "\n",
        "returns: a class method for function"
      ],
      "metadata": {
        "id": "AZh8l-HcZitL"
      }
    },
    {
      "cell_type": "code",
      "source": [
        "class Dog:\n",
        "  def __init__(self, breed, name):\n",
        "    self.breed = breed\n",
        "    self.name = name\n",
        "\n",
        "  @classmethod\n",
        "  def pets(cls, breed, name):\n",
        "    cls.myDog = print(\"I have {} breed dog and its name is {}\".format(breed, name))\n",
        "    return cls.myDog\n",
        "    \n",
        "pet = Dog(\"breed\",\"name\")\n",
        "pet.pets(\"Husky\",\"Jackson\")\n",
        "pet.pets(\"Poodle\", \"Cessie\")"
      ],
      "metadata": {
        "colab": {
          "base_uri": "https://localhost:8080/"
        },
        "id": "O8Oy5qpRZxB-",
        "outputId": "ba33d1b4-a169-4fee-a3a6-bd4d2385832a"
      },
      "execution_count": null,
      "outputs": [
        {
          "output_type": "stream",
          "name": "stdout",
          "text": [
            "I have Husky breed dog and its name is Jackson\n",
            "I have Poodle breed dog and its name is Cessie\n"
          ]
        }
      ]
    },
    {
      "cell_type": "markdown",
      "source": [
        "**Static Method**\n",
        "\n",
        "A @staticmethod does not receive an implicit first argument. \n",
        "\n",
        "- A static method is also a method that is bound to the class and not the object of the class.\n",
        "- A static method can’t access or modify the class state.\n",
        "- It is present in a class because it makes sense for the method to be present in class.\n",
        "\n",
        "Syntax:\n",
        "\n",
        "class C(object):\n",
        "\n",
        "    @staticmethod\n",
        "    def fun(cls, arg1, arg2, ...):\n",
        "       ....\n",
        "\n",
        "fun: function that needs to be converted into a static method\n",
        "\n",
        "returns: a static method for function\n",
        "\n"
      ],
      "metadata": {
        "id": "rYP7_EPSaxdB"
      }
    },
    {
      "cell_type": "code",
      "source": [
        "class Dog:\n",
        "  def __init__(self, breed, name):\n",
        "    self.breed = breed\n",
        "    self.name = name\n",
        "\n",
        "  @staticmethod\n",
        "  def pets(breed, name):\n",
        "    myDog = print(\"I have {} breed dog and its name is {}\".format(breed, name))\n",
        "    return myDog\n",
        "\n",
        "pet = Dog.pets(\"Husky\",\"Jackson\")\n",
        "pet = Dog.pets(\"Poodle\", \"Cessie\")"
      ],
      "metadata": {
        "colab": {
          "base_uri": "https://localhost:8080/"
        },
        "id": "ptOjMm12a6lb",
        "outputId": "9385f6a5-0ae7-4257-c608-bf28707a40a5"
      },
      "execution_count": null,
      "outputs": [
        {
          "output_type": "stream",
          "name": "stdout",
          "text": [
            "I have Husky breed dog and its name is Jackson\n",
            "I have Poodle breed dog and its name is Cessie\n"
          ]
        }
      ]
    },
    {
      "cell_type": "markdown",
      "source": [
        "# Pydoc "
      ],
      "metadata": {
        "id": "cfqgFlsWbBvI"
      }
    },
    {
      "cell_type": "markdown",
      "source": [
        "The pydoc module automatically generates documentation from Python modules. The documentation can be presented as pages of text on the console, served to a web browser, or saved to HTML files."
      ],
      "metadata": {
        "id": "JdAss00kqMVX"
      }
    },
    {
      "cell_type": "markdown",
      "source": [
        "pydoc can be applied at Command Prompt or Anaconda Prompt, not Jupyter or Google Collab.\n",
        "\n",
        "The syntax: \n",
        "\n",
        "c:\\users\\admin>python -m pydoc pass\n",
        "\n",
        "c:\\users\\admin>python /?"
      ],
      "metadata": {
        "id": "lTBo6NnprkpI"
      }
    },
    {
      "cell_type": "markdown",
      "source": [
        "# File Handling (TXT File)"
      ],
      "metadata": {
        "id": "LGGnz6IBtU6F"
      }
    },
    {
      "cell_type": "markdown",
      "source": [
        "File handling is an important part of any web application.\n",
        "\n",
        "Python has several functions for creating, reading, updating, and deleting files.\n",
        "\n",
        "The key function for working with files in Python is the open() function.\n",
        "\n",
        "The open() function takes two parameters; filename, and mode.\n",
        "\n",
        "There are four different methods (modes) for opening a file:\n",
        "\n",
        "\"r\" - Read - Default value. Opens a file for reading, error if the file does not exist\n",
        "\n",
        "\"a\" - Append - Opens a file for appending, creates the file if it does not exist\n",
        "\n",
        "\"w\" - Write - Opens a file for writing, creates the file if it does not exist\n",
        "\n",
        "\"x\" - Create - Creates the specified file, returns an error if the file exists\n",
        "\n"
      ],
      "metadata": {
        "id": "G_GhHfD4vCcn"
      }
    },
    {
      "cell_type": "markdown",
      "source": [
        "## Open"
      ],
      "metadata": {
        "id": "JK-risy4tZXr"
      }
    },
    {
      "cell_type": "markdown",
      "source": [
        "To open the file, use the built-in open() function.\n",
        "\n",
        "The open() function returns a file object, which has a read() method for reading the content of the file:"
      ],
      "metadata": {
        "id": "FgMc1VsGueon"
      }
    },
    {
      "cell_type": "code",
      "source": [
        "#Step 1 = Upload the txt file to your Colllab\n",
        "\n",
        "from google.colab import files\n",
        "files.upload()"
      ],
      "metadata": {
        "colab": {
          "resources": {
            "http://localhost:8080/nbextensions/google.colab/files.js": {
              "data": "Ly8gQ29weXJpZ2h0IDIwMTcgR29vZ2xlIExMQwovLwovLyBMaWNlbnNlZCB1bmRlciB0aGUgQXBhY2hlIExpY2Vuc2UsIFZlcnNpb24gMi4wICh0aGUgIkxpY2Vuc2UiKTsKLy8geW91IG1heSBub3QgdXNlIHRoaXMgZmlsZSBleGNlcHQgaW4gY29tcGxpYW5jZSB3aXRoIHRoZSBMaWNlbnNlLgovLyBZb3UgbWF5IG9idGFpbiBhIGNvcHkgb2YgdGhlIExpY2Vuc2UgYXQKLy8KLy8gICAgICBodHRwOi8vd3d3LmFwYWNoZS5vcmcvbGljZW5zZXMvTElDRU5TRS0yLjAKLy8KLy8gVW5sZXNzIHJlcXVpcmVkIGJ5IGFwcGxpY2FibGUgbGF3IG9yIGFncmVlZCB0byBpbiB3cml0aW5nLCBzb2Z0d2FyZQovLyBkaXN0cmlidXRlZCB1bmRlciB0aGUgTGljZW5zZSBpcyBkaXN0cmlidXRlZCBvbiBhbiAiQVMgSVMiIEJBU0lTLAovLyBXSVRIT1VUIFdBUlJBTlRJRVMgT1IgQ09ORElUSU9OUyBPRiBBTlkgS0lORCwgZWl0aGVyIGV4cHJlc3Mgb3IgaW1wbGllZC4KLy8gU2VlIHRoZSBMaWNlbnNlIGZvciB0aGUgc3BlY2lmaWMgbGFuZ3VhZ2UgZ292ZXJuaW5nIHBlcm1pc3Npb25zIGFuZAovLyBsaW1pdGF0aW9ucyB1bmRlciB0aGUgTGljZW5zZS4KCi8qKgogKiBAZmlsZW92ZXJ2aWV3IEhlbHBlcnMgZm9yIGdvb2dsZS5jb2xhYiBQeXRob24gbW9kdWxlLgogKi8KKGZ1bmN0aW9uKHNjb3BlKSB7CmZ1bmN0aW9uIHNwYW4odGV4dCwgc3R5bGVBdHRyaWJ1dGVzID0ge30pIHsKICBjb25zdCBlbGVtZW50ID0gZG9jdW1lbnQuY3JlYXRlRWxlbWVudCgnc3BhbicpOwogIGVsZW1lbnQudGV4dENvbnRlbnQgPSB0ZXh0OwogIGZvciAoY29uc3Qga2V5IG9mIE9iamVjdC5rZXlzKHN0eWxlQXR0cmlidXRlcykpIHsKICAgIGVsZW1lbnQuc3R5bGVba2V5XSA9IHN0eWxlQXR0cmlidXRlc1trZXldOwogIH0KICByZXR1cm4gZWxlbWVudDsKfQoKLy8gTWF4IG51bWJlciBvZiBieXRlcyB3aGljaCB3aWxsIGJlIHVwbG9hZGVkIGF0IGEgdGltZS4KY29uc3QgTUFYX1BBWUxPQURfU0laRSA9IDEwMCAqIDEwMjQ7CgpmdW5jdGlvbiBfdXBsb2FkRmlsZXMoaW5wdXRJZCwgb3V0cHV0SWQpIHsKICBjb25zdCBzdGVwcyA9IHVwbG9hZEZpbGVzU3RlcChpbnB1dElkLCBvdXRwdXRJZCk7CiAgY29uc3Qgb3V0cHV0RWxlbWVudCA9IGRvY3VtZW50LmdldEVsZW1lbnRCeUlkKG91dHB1dElkKTsKICAvLyBDYWNoZSBzdGVwcyBvbiB0aGUgb3V0cHV0RWxlbWVudCB0byBtYWtlIGl0IGF2YWlsYWJsZSBmb3IgdGhlIG5leHQgY2FsbAogIC8vIHRvIHVwbG9hZEZpbGVzQ29udGludWUgZnJvbSBQeXRob24uCiAgb3V0cHV0RWxlbWVudC5zdGVwcyA9IHN0ZXBzOwoKICByZXR1cm4gX3VwbG9hZEZpbGVzQ29udGludWUob3V0cHV0SWQpOwp9CgovLyBUaGlzIGlzIHJvdWdobHkgYW4gYXN5bmMgZ2VuZXJhdG9yIChub3Qgc3VwcG9ydGVkIGluIHRoZSBicm93c2VyIHlldCksCi8vIHdoZXJlIHRoZXJlIGFyZSBtdWx0aXBsZSBhc3luY2hyb25vdXMgc3RlcHMgYW5kIHRoZSBQeXRob24gc2lkZSBpcyBnb2luZwovLyB0byBwb2xsIGZvciBjb21wbGV0aW9uIG9mIGVhY2ggc3RlcC4KLy8gVGhpcyB1c2VzIGEgUHJvbWlzZSB0byBibG9jayB0aGUgcHl0aG9uIHNpZGUgb24gY29tcGxldGlvbiBvZiBlYWNoIHN0ZXAsCi8vIHRoZW4gcGFzc2VzIHRoZSByZXN1bHQgb2YgdGhlIHByZXZpb3VzIHN0ZXAgYXMgdGhlIGlucHV0IHRvIHRoZSBuZXh0IHN0ZXAuCmZ1bmN0aW9uIF91cGxvYWRGaWxlc0NvbnRpbnVlKG91dHB1dElkKSB7CiAgY29uc3Qgb3V0cHV0RWxlbWVudCA9IGRvY3VtZW50LmdldEVsZW1lbnRCeUlkKG91dHB1dElkKTsKICBjb25zdCBzdGVwcyA9IG91dHB1dEVsZW1lbnQuc3RlcHM7CgogIGNvbnN0IG5leHQgPSBzdGVwcy5uZXh0KG91dHB1dEVsZW1lbnQubGFzdFByb21pc2VWYWx1ZSk7CiAgcmV0dXJuIFByb21pc2UucmVzb2x2ZShuZXh0LnZhbHVlLnByb21pc2UpLnRoZW4oKHZhbHVlKSA9PiB7CiAgICAvLyBDYWNoZSB0aGUgbGFzdCBwcm9taXNlIHZhbHVlIHRvIG1ha2UgaXQgYXZhaWxhYmxlIHRvIHRoZSBuZXh0CiAgICAvLyBzdGVwIG9mIHRoZSBnZW5lcmF0b3IuCiAgICBvdXRwdXRFbGVtZW50Lmxhc3RQcm9taXNlVmFsdWUgPSB2YWx1ZTsKICAgIHJldHVybiBuZXh0LnZhbHVlLnJlc3BvbnNlOwogIH0pOwp9CgovKioKICogR2VuZXJhdG9yIGZ1bmN0aW9uIHdoaWNoIGlzIGNhbGxlZCBiZXR3ZWVuIGVhY2ggYXN5bmMgc3RlcCBvZiB0aGUgdXBsb2FkCiAqIHByb2Nlc3MuCiAqIEBwYXJhbSB7c3RyaW5nfSBpbnB1dElkIEVsZW1lbnQgSUQgb2YgdGhlIGlucHV0IGZpbGUgcGlja2VyIGVsZW1lbnQuCiAqIEBwYXJhbSB7c3RyaW5nfSBvdXRwdXRJZCBFbGVtZW50IElEIG9mIHRoZSBvdXRwdXQgZGlzcGxheS4KICogQHJldHVybiB7IUl0ZXJhYmxlPCFPYmplY3Q+fSBJdGVyYWJsZSBvZiBuZXh0IHN0ZXBzLgogKi8KZnVuY3Rpb24qIHVwbG9hZEZpbGVzU3RlcChpbnB1dElkLCBvdXRwdXRJZCkgewogIGNvbnN0IGlucHV0RWxlbWVudCA9IGRvY3VtZW50LmdldEVsZW1lbnRCeUlkKGlucHV0SWQpOwogIGlucHV0RWxlbWVudC5kaXNhYmxlZCA9IGZhbHNlOwoKICBjb25zdCBvdXRwdXRFbGVtZW50ID0gZG9jdW1lbnQuZ2V0RWxlbWVudEJ5SWQob3V0cHV0SWQpOwogIG91dHB1dEVsZW1lbnQuaW5uZXJIVE1MID0gJyc7CgogIGNvbnN0IHBpY2tlZFByb21pc2UgPSBuZXcgUHJvbWlzZSgocmVzb2x2ZSkgPT4gewogICAgaW5wdXRFbGVtZW50LmFkZEV2ZW50TGlzdGVuZXIoJ2NoYW5nZScsIChlKSA9PiB7CiAgICAgIHJlc29sdmUoZS50YXJnZXQuZmlsZXMpOwogICAgfSk7CiAgfSk7CgogIGNvbnN0IGNhbmNlbCA9IGRvY3VtZW50LmNyZWF0ZUVsZW1lbnQoJ2J1dHRvbicpOwogIGlucHV0RWxlbWVudC5wYXJlbnRFbGVtZW50LmFwcGVuZENoaWxkKGNhbmNlbCk7CiAgY2FuY2VsLnRleHRDb250ZW50ID0gJ0NhbmNlbCB1cGxvYWQnOwogIGNvbnN0IGNhbmNlbFByb21pc2UgPSBuZXcgUHJvbWlzZSgocmVzb2x2ZSkgPT4gewogICAgY2FuY2VsLm9uY2xpY2sgPSAoKSA9PiB7CiAgICAgIHJlc29sdmUobnVsbCk7CiAgICB9OwogIH0pOwoKICAvLyBXYWl0IGZvciB0aGUgdXNlciB0byBwaWNrIHRoZSBmaWxlcy4KICBjb25zdCBmaWxlcyA9IHlpZWxkIHsKICAgIHByb21pc2U6IFByb21pc2UucmFjZShbcGlja2VkUHJvbWlzZSwgY2FuY2VsUHJvbWlzZV0pLAogICAgcmVzcG9uc2U6IHsKICAgICAgYWN0aW9uOiAnc3RhcnRpbmcnLAogICAgfQogIH07CgogIGNhbmNlbC5yZW1vdmUoKTsKCiAgLy8gRGlzYWJsZSB0aGUgaW5wdXQgZWxlbWVudCBzaW5jZSBmdXJ0aGVyIHBpY2tzIGFyZSBub3QgYWxsb3dlZC4KICBpbnB1dEVsZW1lbnQuZGlzYWJsZWQgPSB0cnVlOwoKICBpZiAoIWZpbGVzKSB7CiAgICByZXR1cm4gewogICAgICByZXNwb25zZTogewogICAgICAgIGFjdGlvbjogJ2NvbXBsZXRlJywKICAgICAgfQogICAgfTsKICB9CgogIGZvciAoY29uc3QgZmlsZSBvZiBmaWxlcykgewogICAgY29uc3QgbGkgPSBkb2N1bWVudC5jcmVhdGVFbGVtZW50KCdsaScpOwogICAgbGkuYXBwZW5kKHNwYW4oZmlsZS5uYW1lLCB7Zm9udFdlaWdodDogJ2JvbGQnfSkpOwogICAgbGkuYXBwZW5kKHNwYW4oCiAgICAgICAgYCgke2ZpbGUudHlwZSB8fCAnbi9hJ30pIC0gJHtmaWxlLnNpemV9IGJ5dGVzLCBgICsKICAgICAgICBgbGFzdCBtb2RpZmllZDogJHsKICAgICAgICAgICAgZmlsZS5sYXN0TW9kaWZpZWREYXRlID8gZmlsZS5sYXN0TW9kaWZpZWREYXRlLnRvTG9jYWxlRGF0ZVN0cmluZygpIDoKICAgICAgICAgICAgICAgICAgICAgICAgICAgICAgICAgICAgJ24vYSd9IC0gYCkpOwogICAgY29uc3QgcGVyY2VudCA9IHNwYW4oJzAlIGRvbmUnKTsKICAgIGxpLmFwcGVuZENoaWxkKHBlcmNlbnQpOwoKICAgIG91dHB1dEVsZW1lbnQuYXBwZW5kQ2hpbGQobGkpOwoKICAgIGNvbnN0IGZpbGVEYXRhUHJvbWlzZSA9IG5ldyBQcm9taXNlKChyZXNvbHZlKSA9PiB7CiAgICAgIGNvbnN0IHJlYWRlciA9IG5ldyBGaWxlUmVhZGVyKCk7CiAgICAgIHJlYWRlci5vbmxvYWQgPSAoZSkgPT4gewogICAgICAgIHJlc29sdmUoZS50YXJnZXQucmVzdWx0KTsKICAgICAgfTsKICAgICAgcmVhZGVyLnJlYWRBc0FycmF5QnVmZmVyKGZpbGUpOwogICAgfSk7CiAgICAvLyBXYWl0IGZvciB0aGUgZGF0YSB0byBiZSByZWFkeS4KICAgIGxldCBmaWxlRGF0YSA9IHlpZWxkIHsKICAgICAgcHJvbWlzZTogZmlsZURhdGFQcm9taXNlLAogICAgICByZXNwb25zZTogewogICAgICAgIGFjdGlvbjogJ2NvbnRpbnVlJywKICAgICAgfQogICAgfTsKCiAgICAvLyBVc2UgYSBjaHVua2VkIHNlbmRpbmcgdG8gYXZvaWQgbWVzc2FnZSBzaXplIGxpbWl0cy4gU2VlIGIvNjIxMTU2NjAuCiAgICBsZXQgcG9zaXRpb24gPSAwOwogICAgZG8gewogICAgICBjb25zdCBsZW5ndGggPSBNYXRoLm1pbihmaWxlRGF0YS5ieXRlTGVuZ3RoIC0gcG9zaXRpb24sIE1BWF9QQVlMT0FEX1NJWkUpOwogICAgICBjb25zdCBjaHVuayA9IG5ldyBVaW50OEFycmF5KGZpbGVEYXRhLCBwb3NpdGlvbiwgbGVuZ3RoKTsKICAgICAgcG9zaXRpb24gKz0gbGVuZ3RoOwoKICAgICAgY29uc3QgYmFzZTY0ID0gYnRvYShTdHJpbmcuZnJvbUNoYXJDb2RlLmFwcGx5KG51bGwsIGNodW5rKSk7CiAgICAgIHlpZWxkIHsKICAgICAgICByZXNwb25zZTogewogICAgICAgICAgYWN0aW9uOiAnYXBwZW5kJywKICAgICAgICAgIGZpbGU6IGZpbGUubmFtZSwKICAgICAgICAgIGRhdGE6IGJhc2U2NCwKICAgICAgICB9LAogICAgICB9OwoKICAgICAgbGV0IHBlcmNlbnREb25lID0gZmlsZURhdGEuYnl0ZUxlbmd0aCA9PT0gMCA/CiAgICAgICAgICAxMDAgOgogICAgICAgICAgTWF0aC5yb3VuZCgocG9zaXRpb24gLyBmaWxlRGF0YS5ieXRlTGVuZ3RoKSAqIDEwMCk7CiAgICAgIHBlcmNlbnQudGV4dENvbnRlbnQgPSBgJHtwZXJjZW50RG9uZX0lIGRvbmVgOwoKICAgIH0gd2hpbGUgKHBvc2l0aW9uIDwgZmlsZURhdGEuYnl0ZUxlbmd0aCk7CiAgfQoKICAvLyBBbGwgZG9uZS4KICB5aWVsZCB7CiAgICByZXNwb25zZTogewogICAgICBhY3Rpb246ICdjb21wbGV0ZScsCiAgICB9CiAgfTsKfQoKc2NvcGUuZ29vZ2xlID0gc2NvcGUuZ29vZ2xlIHx8IHt9OwpzY29wZS5nb29nbGUuY29sYWIgPSBzY29wZS5nb29nbGUuY29sYWIgfHwge307CnNjb3BlLmdvb2dsZS5jb2xhYi5fZmlsZXMgPSB7CiAgX3VwbG9hZEZpbGVzLAogIF91cGxvYWRGaWxlc0NvbnRpbnVlLAp9Owp9KShzZWxmKTsK",
              "ok": true,
              "headers": [
                [
                  "content-type",
                  "application/javascript"
                ]
              ],
              "status": 200,
              "status_text": ""
            }
          },
          "base_uri": "https://localhost:8080/",
          "height": 93
        },
        "id": "yI6DgJ_RvusE",
        "outputId": "6b33e8ec-2e0f-4740-997f-647a5d0c4dcf"
      },
      "execution_count": null,
      "outputs": [
        {
          "output_type": "display_data",
          "data": {
            "text/plain": [
              "<IPython.core.display.HTML object>"
            ],
            "text/html": [
              "\n",
              "     <input type=\"file\" id=\"files-d0e1a440-e11d-45d5-acd1-cbe7499e3682\" name=\"files[]\" multiple disabled\n",
              "        style=\"border:none\" />\n",
              "     <output id=\"result-d0e1a440-e11d-45d5-acd1-cbe7499e3682\">\n",
              "      Upload widget is only available when the cell has been executed in the\n",
              "      current browser session. Please rerun this cell to enable.\n",
              "      </output>\n",
              "      <script src=\"/nbextensions/google.colab/files.js\"></script> "
            ]
          },
          "metadata": {}
        },
        {
          "output_type": "stream",
          "name": "stdout",
          "text": [
            "Saving Equipment+Details.txt to Equipment+Details (1).txt\n"
          ]
        },
        {
          "output_type": "execute_result",
          "data": {
            "text/plain": [
              "{'Equipment+Details.txt': b'Machine,Type,Lighting,Audio\\r\\n3,2,1,3\\r\\nLaptops,Trainers,Light Source,Microphone\\r\\nMacs,MOS Certified,300 Watts,Directional\\r\\n'}"
            ]
          },
          "metadata": {},
          "execution_count": 10
        }
      ]
    },
    {
      "cell_type": "code",
      "source": [
        "#Step 2 = use open function\n",
        "\n",
        "Inventory = open(\"Equipment+Details.txt\", \"r\")\n",
        "\n",
        "#\"r\" - Read - Default value. Opens a file for reading,\n",
        "#error if the file does not exist"
      ],
      "metadata": {
        "id": "s9EIi41_wIBY"
      },
      "execution_count": null,
      "outputs": []
    },
    {
      "cell_type": "code",
      "source": [
        "InventoryContents = Inventory.read()"
      ],
      "metadata": {
        "id": "vyVMK2Vnwqcl"
      },
      "execution_count": null,
      "outputs": []
    },
    {
      "cell_type": "code",
      "source": [
        "print (InventoryContents)"
      ],
      "metadata": {
        "colab": {
          "base_uri": "https://localhost:8080/"
        },
        "id": "kgfII0XBw0R_",
        "outputId": "b36ca5fe-0867-4c2c-e062-9bf36d1f1d56"
      },
      "execution_count": null,
      "outputs": [
        {
          "output_type": "stream",
          "name": "stdout",
          "text": [
            "Machine,Type,Lighting,Audio\n",
            "3,2,1,3\n",
            "Laptops,Trainers,Light Source,Microphone\n",
            "Macs,MOS Certified,300 Watts,Directional\n",
            "\n"
          ]
        }
      ]
    },
    {
      "cell_type": "markdown",
      "source": [
        "By default the read() method returns the whole text, but you can also specify how many characters you want to return:"
      ],
      "metadata": {
        "id": "tKqU_fHIxhvJ"
      }
    },
    {
      "cell_type": "code",
      "source": [
        "Inventory = open(\"Equipment+Details.txt\", \"r\")\n",
        "print(Inventory.read(7))"
      ],
      "metadata": {
        "colab": {
          "base_uri": "https://localhost:8080/"
        },
        "id": "gq2jeJL4xvE0",
        "outputId": "e4f995f0-cdc8-4def-bc6d-b4dd57197c49"
      },
      "execution_count": null,
      "outputs": [
        {
          "output_type": "stream",
          "name": "stdout",
          "text": [
            "Machine\n"
          ]
        }
      ]
    },
    {
      "cell_type": "markdown",
      "source": [
        "## Read Lines"
      ],
      "metadata": {
        "id": "T7wu0UViyHQv"
      }
    },
    {
      "cell_type": "markdown",
      "source": [
        "You can return one line by using the readline() method:"
      ],
      "metadata": {
        "id": "-2aLbjTDyOAM"
      }
    },
    {
      "cell_type": "code",
      "source": [
        "#Read First Line\n",
        "Inventory = open(\"Equipment+Details.txt\", \"r\")\n",
        "print(Inventory.readline())"
      ],
      "metadata": {
        "colab": {
          "base_uri": "https://localhost:8080/"
        },
        "id": "9a8fz75NyMQ-",
        "outputId": "2c3f316a-1b0f-42cc-9224-48ef0af63ee2"
      },
      "execution_count": null,
      "outputs": [
        {
          "output_type": "stream",
          "name": "stdout",
          "text": [
            "Machine,Type,Lighting,Audio\n",
            "\n"
          ]
        }
      ]
    },
    {
      "cell_type": "code",
      "source": [
        "#Read Fisrt and Second Lines\n",
        "Inventory = open(\"Equipment+Details.txt\", \"r\")\n",
        "print(Inventory.readline())\n",
        "print(Inventory.readline())"
      ],
      "metadata": {
        "colab": {
          "base_uri": "https://localhost:8080/"
        },
        "id": "k0DHeRIPyoNo",
        "outputId": "9fab41d3-2294-407f-c4c7-c8122b40b0a0"
      },
      "execution_count": null,
      "outputs": [
        {
          "output_type": "stream",
          "name": "stdout",
          "text": [
            "Machine,Type,Lighting,Audio\n",
            "\n",
            "3,2,1,3\n",
            "\n"
          ]
        }
      ]
    },
    {
      "cell_type": "code",
      "source": [
        "#Read the spesific lines (This Example show third line only)\n",
        "Inventory = open(\"Equipment+Details.txt\", \"r\")\n",
        "InventoryContents = Inventory.readlines()\n",
        "print(InventoryContents[2])"
      ],
      "metadata": {
        "colab": {
          "base_uri": "https://localhost:8080/"
        },
        "id": "csM5OBWYyx3k",
        "outputId": "8be6f63e-d05b-412f-95aa-ce96b1e38c51"
      },
      "execution_count": null,
      "outputs": [
        {
          "output_type": "stream",
          "name": "stdout",
          "text": [
            "Laptops,Trainers,Light Source,Microphone\n",
            "\n"
          ]
        }
      ]
    },
    {
      "cell_type": "markdown",
      "source": [
        "## Close\n",
        "\n",
        "It is a good practice to always close the file when you are done with it."
      ],
      "metadata": {
        "id": "SCdHJFVM0PV6"
      }
    },
    {
      "cell_type": "code",
      "source": [
        "Inventory.close()"
      ],
      "metadata": {
        "id": "JYmO1-TV0Wp9"
      },
      "execution_count": null,
      "outputs": []
    },
    {
      "cell_type": "code",
      "execution_count": null,
      "metadata": {
        "id": "c916vIySa7tE"
      },
      "outputs": [],
      "source": [
        ""
      ]
    },
    {
      "cell_type": "markdown",
      "source": [
        "IO "
      ],
      "metadata": {
        "id": "scd7jF-QbJH5"
      }
    },
    {
      "cell_type": "markdown",
      "source": [
        "Python io module allows us to manage the file-related input and output operations"
      ],
      "metadata": {
        "id": "N1deh9bl2r6K"
      }
    },
    {
      "cell_type": "code",
      "source": [
        "import io\n",
        "\n",
        "with open('test.txt','w') as writefile:\n",
        "  toTest= input(\"Input your text here:\")\n",
        "  writefile.write(toTest)\n"
      ],
      "metadata": {
        "colab": {
          "base_uri": "https://localhost:8080/"
        },
        "id": "Dy4mgeawzau_",
        "outputId": "b56f3821-ec02-4af0-ef51-52ec746997a6"
      },
      "execution_count": null,
      "outputs": [
        {
          "name": "stdout",
          "output_type": "stream",
          "text": [
            "Input your text here:This example show how to make txt file with io\n"
          ]
        }
      ]
    },
    {
      "cell_type": "markdown",
      "source": [
        "Os.path"
      ],
      "metadata": {
        "id": "P11y31pDbKUJ"
      }
    },
    {
      "cell_type": "markdown",
      "source": [
        "OS Path module contains functions to get or modify information on local directories, files, processes, and environment variables.\n"
      ],
      "metadata": {
        "id": "wiRhdNpEBOg9"
      }
    },
    {
      "cell_type": "code",
      "source": [
        "import os\n",
        "\n",
        "os.path.isfile(\"test.txt\")\n",
        "writefile= open(\"test.txt\",\"a\")\n",
        "toTest = input(\"What you want to add to test.txt?\")\n",
        "writefile.write(\"\\n\"+toTest)\n",
        "writefile.close()"
      ],
      "metadata": {
        "colab": {
          "base_uri": "https://localhost:8080/"
        },
        "id": "Yx0XHIoB4nO-",
        "outputId": "87bb10b9-47f3-4768-91ff-6572cf3b7fdc"
      },
      "execution_count": null,
      "outputs": [
        {
          "name": "stdout",
          "output_type": "stream",
          "text": [
            "What you want to add to test.txt?This example show how to add text in existing txt file with os\n"
          ]
        }
      ]
    },
    {
      "cell_type": "markdown",
      "source": [
        "Delete "
      ],
      "metadata": {
        "id": "4YdeAShJbMFI"
      }
    },
    {
      "cell_type": "code",
      "source": [
        "if os.path.isfile(\"test.txt\"):\n",
        "  os.remove(\"test.txt\")\n",
        "  print(\"Succesfully remove\")\n",
        "else:\n",
        "  print(\"No data to remove\")"
      ],
      "metadata": {
        "id": "Zbh9gaov78Ui",
        "colab": {
          "base_uri": "https://localhost:8080/"
        },
        "outputId": "35e30b2c-a230-4c08-9d0f-4cd165cf0647"
      },
      "execution_count": null,
      "outputs": [
        {
          "output_type": "stream",
          "name": "stdout",
          "text": [
            "Succesfully remove\n"
          ]
        }
      ]
    },
    {
      "cell_type": "markdown",
      "source": [
        "**Unit Test**"
      ],
      "metadata": {
        "id": "fyQoBqw3Clio"
      }
    },
    {
      "cell_type": "markdown",
      "source": [
        "The Python standard library includes a unittest module to help you write and run tests for your Python code. Tests written using the unittest module can help you find bugs in your program, and prevent regressions from occurring as you change code over time. unittest is useful for ensuring that all code that is created has a suitable set of tests."
      ],
      "metadata": {
        "id": "F6cj9usaA8dB"
      }
    },
    {
      "cell_type": "code",
      "source": [
        "import unittest\n",
        "\n",
        "a=3\n",
        "b=5\n",
        "\n",
        "class Test_53a_UnitTest(unittest.TestCase):\n",
        "\n",
        "  def test_equal(self):\n",
        "    self.asserEqual(3+4,a+b)\n",
        "\n",
        "  def test_greater (self):\n",
        "    self.assertTrue(a+b>3+4)\n",
        "\n",
        "if__name__=='__main__\":\n",
        "  unittest.main()"
      ],
      "metadata": {
        "id": "DW8kAVaG_tgE"
      },
      "execution_count": null,
      "outputs": []
    },
    {
      "cell_type": "markdown",
      "source": [
        "**OS**"
      ],
      "metadata": {
        "id": "UtH36eKsCfOZ"
      }
    },
    {
      "cell_type": "markdown",
      "source": [
        "The os.mkdir() function is used to create new directory. In Python, we can create a directory using mkdir which is a method in Python provided by the OS module for interacting with operating systems. This function os.mkdir() returns nothing which means it cannot return any value\n"
      ],
      "metadata": {
        "id": "QFQZI0LH3tp0"
      }
    },
    {
      "cell_type": "code",
      "execution_count": null,
      "metadata": {
        "id": "htYc8jsW3G_B"
      },
      "outputs": [],
      "source": [
        "import os"
      ]
    },
    {
      "cell_type": "code",
      "source": [
        "dirName = input(\"Enter the name of the folder you want to create\")\n",
        "os.mkdir(dirName)\n",
        "print(\"Directory created\")"
      ],
      "metadata": {
        "colab": {
          "base_uri": "https://localhost:8080/"
        },
        "id": "cruFIZlS3lMF",
        "outputId": "191b93cc-085f-469c-daf8-8209e4391edf"
      },
      "execution_count": null,
      "outputs": [
        {
          "output_type": "stream",
          "name": "stdout",
          "text": [
            "Enter the name of the folder you want to createdata science\n",
            "Directory created\n"
          ]
        }
      ]
    },
    {
      "cell_type": "markdown",
      "source": [
        "**Math module**\n",
        "\n",
        "The math module contains a list of functions for performing mathematical calculations."
      ],
      "metadata": {
        "id": "PO7LYlThbW0b"
      }
    },
    {
      "cell_type": "code",
      "source": [
        "import math"
      ],
      "metadata": {
        "id": "qMHji_qz8RWR"
      },
      "execution_count": null,
      "outputs": []
    },
    {
      "cell_type": "code",
      "source": [
        "pi = math.pi"
      ],
      "metadata": {
        "id": "L1snBcfT8VtP"
      },
      "execution_count": null,
      "outputs": []
    },
    {
      "cell_type": "code",
      "source": [
        "pi"
      ],
      "metadata": {
        "colab": {
          "base_uri": "https://localhost:8080/"
        },
        "id": "CMMBf44y8bJs",
        "outputId": "588fad6f-64c7-4cec-e3e5-96ae40aef005"
      },
      "execution_count": null,
      "outputs": [
        {
          "output_type": "execute_result",
          "data": {
            "text/plain": [
              "3.141592653589793"
            ]
          },
          "metadata": {},
          "execution_count": 3
        }
      ]
    },
    {
      "cell_type": "code",
      "source": [
        "a = int(input())\n",
        "pi =  math.pi\n",
        "keliling = 2*pi*a\n",
        "print(keliling)"
      ],
      "metadata": {
        "colab": {
          "base_uri": "https://localhost:8080/"
        },
        "id": "SsqsV9n-8e1-",
        "outputId": "ec007b9d-65b6-4818-ead3-c147a3bd64d7"
      },
      "execution_count": null,
      "outputs": [
        {
          "output_type": "stream",
          "name": "stdout",
          "text": [
            "4\n",
            "25.132741228718345\n"
          ]
        }
      ]
    },
    {
      "cell_type": "markdown",
      "source": [
        "**Datetime**\n",
        "\n",
        "Datetime is a library or module that is called if you need any related operations for the sake of time."
      ],
      "metadata": {
        "id": "LXRCyT0WbXxE"
      }
    },
    {
      "cell_type": "code",
      "source": [
        "import datetime"
      ],
      "metadata": {
        "id": "3I7je7rE87gp"
      },
      "execution_count": null,
      "outputs": []
    },
    {
      "cell_type": "code",
      "source": [
        "todayWithTime = datetime.datetime.today()"
      ],
      "metadata": {
        "id": "C0hKnDNR9DMn"
      },
      "execution_count": null,
      "outputs": []
    },
    {
      "cell_type": "code",
      "source": [
        "todayWithTime"
      ],
      "metadata": {
        "colab": {
          "base_uri": "https://localhost:8080/"
        },
        "id": "5vna-uTw9EiB",
        "outputId": "cb8031d4-36c3-470d-9210-67966d8adbd0"
      },
      "execution_count": null,
      "outputs": [
        {
          "output_type": "execute_result",
          "data": {
            "text/plain": [
              "datetime.datetime(2022, 4, 10, 5, 31, 43, 729604)"
            ]
          },
          "metadata": {},
          "execution_count": 7
        }
      ]
    },
    {
      "cell_type": "code",
      "source": [
        "todayWithoutTime = datetime.date.today()"
      ],
      "metadata": {
        "id": "kmzBUSX3-BaR"
      },
      "execution_count": null,
      "outputs": []
    },
    {
      "cell_type": "code",
      "source": [
        "todayWithoutTime"
      ],
      "metadata": {
        "colab": {
          "base_uri": "https://localhost:8080/"
        },
        "id": "LQmA-QBz-DoA",
        "outputId": "ebb63ab5-0782-41b4-ceda-af3b0d0aff63"
      },
      "execution_count": null,
      "outputs": [
        {
          "output_type": "execute_result",
          "data": {
            "text/plain": [
              "datetime.date(2022, 4, 10)"
            ]
          },
          "metadata": {},
          "execution_count": 16
        }
      ]
    },
    {
      "cell_type": "markdown",
      "source": [
        "DateTime formatting is the process of generating a string with how the elements like day, month, year, hour, minutes and seconds be displayed in a string. For example, displaying the date as DD-MM-YYYY is a format, and displaying the date as MM-DD-YYYY is another format."
      ],
      "metadata": {
        "id": "ziKbj1Y-9Rf5"
      }
    },
    {
      "cell_type": "code",
      "source": [
        "formatting_time = datetime.datetime.strftime(todayWithTime, \"%H: %M: %S\")"
      ],
      "metadata": {
        "id": "UTh_Jt_99VWP"
      },
      "execution_count": null,
      "outputs": []
    },
    {
      "cell_type": "code",
      "source": [
        "formatting_time"
      ],
      "metadata": {
        "colab": {
          "base_uri": "https://localhost:8080/",
          "height": 35
        },
        "id": "pV4XPRz99Zx7",
        "outputId": "f85c5973-2d93-4fc4-f00a-22080f3eaed9"
      },
      "execution_count": null,
      "outputs": [
        {
          "output_type": "execute_result",
          "data": {
            "text/plain": [
              "'05: 31: 43'"
            ],
            "application/vnd.google.colaboratory.intrinsic+json": {
              "type": "string"
            }
          },
          "metadata": {},
          "execution_count": 9
        }
      ]
    },
    {
      "cell_type": "code",
      "source": [
        "formatting_date = datetime.datetime.strftime(todayWithoutTime, \"%m/%d/%Y\")"
      ],
      "metadata": {
        "id": "1yUD-4Q69d6Z"
      },
      "execution_count": null,
      "outputs": []
    },
    {
      "cell_type": "code",
      "source": [
        "formatting_date"
      ],
      "metadata": {
        "colab": {
          "base_uri": "https://localhost:8080/",
          "height": 35
        },
        "id": "6sGKA9-d-LAJ",
        "outputId": "7b978693-6d9d-4b01-8ed6-10018cce9510"
      },
      "execution_count": null,
      "outputs": [
        {
          "output_type": "execute_result",
          "data": {
            "text/plain": [
              "'04/10/2022'"
            ],
            "application/vnd.google.colaboratory.intrinsic+json": {
              "type": "string"
            }
          },
          "metadata": {},
          "execution_count": 18
        }
      ]
    },
    {
      "cell_type": "markdown",
      "source": [
        "# Random\n",
        "\n",
        "We can create a series of random number by using random module. what we need to do is just simply import the module and use the function within the module in our program"
      ],
      "metadata": {
        "id": "vI4c9HcPFynj"
      }
    },
    {
      "cell_type": "code",
      "source": [
        "# Example\n",
        "\n",
        "from random import randint\n",
        "\n",
        "for i in range(10):\n",
        "  print(f\"random \",i,\" = \",randint(1,10))"
      ],
      "metadata": {
        "id": "-xNuzSF9_eAM",
        "colab": {
          "base_uri": "https://localhost:8080/"
        },
        "outputId": "42ac6049-85ff-4d60-bc34-9418ae4e72b6"
      },
      "execution_count": null,
      "outputs": [
        {
          "output_type": "stream",
          "name": "stdout",
          "text": [
            "random  0  =  3\n",
            "random  1  =  8\n",
            "random  2  =  3\n",
            "random  3  =  9\n",
            "random  4  =  7\n",
            "random  5  =  9\n",
            "random  6  =  1\n",
            "random  7  =  6\n",
            "random  8  =  10\n",
            "random  9  =  4\n"
          ]
        }
      ]
    },
    {
      "cell_type": "markdown",
      "source": [
        "# Import sys\n",
        "\n",
        "sys can be use as a way to define what kind of error we are facing in our program"
      ],
      "metadata": {
        "id": "SnHPm6hsFynp"
      }
    },
    {
      "cell_type": "code",
      "source": [
        "import sys\n",
        "\n",
        "n = \"farhan.py\"\n",
        "try:\n",
        "  with open(n) as file:\n",
        "    print (file.read())\n",
        "except:\n",
        "  print(sys.exc_info()[0])\n",
        "  print(\"do you choose the right file?\")\n",
        "else:\n",
        "  print(\"berhasil\")\n",
        "finally:\n",
        "  print(\"Thank you\")"
      ],
      "metadata": {
        "id": "GLuOnSzc_uhQ",
        "colab": {
          "base_uri": "https://localhost:8080/"
        },
        "outputId": "4373511e-f679-4781-e748-a4dac9f874ae"
      },
      "execution_count": null,
      "outputs": [
        {
          "output_type": "stream",
          "name": "stdout",
          "text": [
            "<class 'FileNotFoundError'>\n",
            "do you choose the right file?\n",
            "Thank you\n"
          ]
        }
      ]
    }
  ]
}